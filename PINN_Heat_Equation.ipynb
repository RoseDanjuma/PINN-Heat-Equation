{
  "nbformat": 4,
  "nbformat_minor": 0,
  "metadata": {
    "colab": {
      "provenance": []
    },
    "kernelspec": {
      "name": "python3",
      "display_name": "Python 3"
    },
    "language_info": {
      "name": "python"
    }
  },
  "cells": [
    {
      "cell_type": "markdown",
      "source": [
        "# Physics-Informed Neural Network (PINN) for 1D Heat Equation\n",
        "This notebook demonstrates solving the 1D heat equation using PINNs.\n"
      ],
      "metadata": {
        "id": "iINm5u3GSJ6N"
      }
    },
    {
      "cell_type": "code",
      "execution_count": null,
      "metadata": {
        "colab": {
          "base_uri": "https://localhost:8080/"
        },
        "id": "1x8ZKYriRnRa",
        "outputId": "108d80e1-c8b3-4c5a-8ae7-e2e9894f780c"
      },
      "outputs": [
        {
          "output_type": "stream",
          "name": "stdout",
          "text": [
            "Collecting deepxde\n",
            "  Downloading deepxde-1.14.0-py3-none-any.whl.metadata (12 kB)\n",
            "Requirement already satisfied: matplotlib in /usr/local/lib/python3.12/dist-packages (3.10.0)\n",
            "Requirement already satisfied: numpy in /usr/local/lib/python3.12/dist-packages (from deepxde) (2.0.2)\n",
            "Requirement already satisfied: scikit-learn in /usr/local/lib/python3.12/dist-packages (from deepxde) (1.6.1)\n",
            "Collecting scikit-optimize>=0.9.0 (from deepxde)\n",
            "  Downloading scikit_optimize-0.10.2-py2.py3-none-any.whl.metadata (9.7 kB)\n",
            "Requirement already satisfied: scipy in /usr/local/lib/python3.12/dist-packages (from deepxde) (1.16.1)\n",
            "Requirement already satisfied: contourpy>=1.0.1 in /usr/local/lib/python3.12/dist-packages (from matplotlib) (1.3.3)\n",
            "Requirement already satisfied: cycler>=0.10 in /usr/local/lib/python3.12/dist-packages (from matplotlib) (0.12.1)\n",
            "Requirement already satisfied: fonttools>=4.22.0 in /usr/local/lib/python3.12/dist-packages (from matplotlib) (4.59.2)\n",
            "Requirement already satisfied: kiwisolver>=1.3.1 in /usr/local/lib/python3.12/dist-packages (from matplotlib) (1.4.9)\n",
            "Requirement already satisfied: packaging>=20.0 in /usr/local/lib/python3.12/dist-packages (from matplotlib) (25.0)\n",
            "Requirement already satisfied: pillow>=8 in /usr/local/lib/python3.12/dist-packages (from matplotlib) (11.3.0)\n",
            "Requirement already satisfied: pyparsing>=2.3.1 in /usr/local/lib/python3.12/dist-packages (from matplotlib) (3.2.3)\n",
            "Requirement already satisfied: python-dateutil>=2.7 in /usr/local/lib/python3.12/dist-packages (from matplotlib) (2.9.0.post0)\n",
            "Requirement already satisfied: six>=1.5 in /usr/local/lib/python3.12/dist-packages (from python-dateutil>=2.7->matplotlib) (1.17.0)\n",
            "Requirement already satisfied: joblib>=0.11 in /usr/local/lib/python3.12/dist-packages (from scikit-optimize>=0.9.0->deepxde) (1.5.2)\n",
            "Collecting pyaml>=16.9 (from scikit-optimize>=0.9.0->deepxde)\n",
            "  Downloading pyaml-25.7.0-py3-none-any.whl.metadata (12 kB)\n",
            "Requirement already satisfied: threadpoolctl>=3.1.0 in /usr/local/lib/python3.12/dist-packages (from scikit-learn->deepxde) (3.6.0)\n",
            "Requirement already satisfied: PyYAML in /usr/local/lib/python3.12/dist-packages (from pyaml>=16.9->scikit-optimize>=0.9.0->deepxde) (6.0.2)\n",
            "Downloading deepxde-1.14.0-py3-none-any.whl (194 kB)\n",
            "\u001b[2K   \u001b[90m━━━━━━━━━━━━━━━━━━━━━━━━━━━━━━━━━━━━━━━━\u001b[0m \u001b[32m194.2/194.2 kB\u001b[0m \u001b[31m4.1 MB/s\u001b[0m eta \u001b[36m0:00:00\u001b[0m\n",
            "\u001b[?25hDownloading scikit_optimize-0.10.2-py2.py3-none-any.whl (107 kB)\n",
            "\u001b[2K   \u001b[90m━━━━━━━━━━━━━━━━━━━━━━━━━━━━━━━━━━━━━━━━\u001b[0m \u001b[32m107.8/107.8 kB\u001b[0m \u001b[31m7.7 MB/s\u001b[0m eta \u001b[36m0:00:00\u001b[0m\n",
            "\u001b[?25hDownloading pyaml-25.7.0-py3-none-any.whl (26 kB)\n",
            "Installing collected packages: pyaml, scikit-optimize, deepxde\n",
            "Successfully installed deepxde-1.14.0 pyaml-25.7.0 scikit-optimize-0.10.2\n"
          ]
        }
      ],
      "source": [
        "!pip install deepxde matplotlib"
      ]
    },
    {
      "cell_type": "code",
      "source": [
        "import deepxde as dde\n",
        "import numpy as np\n",
        "import matplotlib.pyplot as plt\n",
        "\n",
        "def initial_condition(x):\n",
        "    return np.sin(np.pi * x[:, 0:1])\n",
        "\n",
        "geom = dde.geometry.Interval(0, 1)\n",
        "timedomain = dde.geometry.TimeDomain(0, 1)\n",
        "geomtime = dde.geometry.GeometryXTime(geom, timedomain)\n",
        "\n",
        "ic = dde.IC(geomtime, initial_condition, lambda _, on_initial: on_initial)\n",
        "bc1 = dde.DirichletBC(geomtime, lambda x: 0, lambda x, on_boundary: on_boundary and np.isclose(x[0], 0))\n",
        "bc2 = dde.DirichletBC(geomtime, lambda x: 0, lambda x, on_boundary: on_boundary and np.isclose(x[0], 1))"
      ],
      "metadata": {
        "colab": {
          "base_uri": "https://localhost:8080/"
        },
        "id": "4MFHAiV2T3Lr",
        "outputId": "1970c072-4853-4d94-afec-ac44e04fc9ae"
      },
      "execution_count": null,
      "outputs": [
        {
          "output_type": "stream",
          "name": "stdout",
          "text": [
            "No backend selected.\n",
            "Finding available backend...\n"
          ]
        },
        {
          "output_type": "stream",
          "name": "stderr",
          "text": [
            "Using backend: tensorflow.compat.v1\n",
            "Other supported backends: tensorflow, pytorch, jax, paddle.\n",
            "paddle supports more examples now and is recommended.\n",
            "WARNING:tensorflow:From /usr/local/lib/python3.12/dist-packages/tensorflow/python/compat/v2_compat.py:98: disable_resource_variables (from tensorflow.python.ops.resource_variables_toggle) is deprecated and will be removed in a future version.\n",
            "Instructions for updating:\n",
            "non-resource variables are not supported in the long term\n"
          ]
        },
        {
          "output_type": "stream",
          "name": "stdout",
          "text": [
            "Found tensorflow.compat.v1\n",
            "Setting the default backend to \"tensorflow.compat.v1\". You can change it in the ~/.deepxde/config.json file or export the DDE_BACKEND environment variable. Valid options are: tensorflow.compat.v1, tensorflow, pytorch, jax, paddle (all lowercase)\n"
          ]
        }
      ]
    },
    {
      "cell_type": "markdown",
      "source": [
        "The PDE (1D Heat Equation)\n",
        "\n",
        "The equation is:\n",
        "\n",
        "𝑢\n",
        "𝑡 =\n",
        "𝛼\n",
        "𝑢\n",
        "𝑥\n",
        "𝑥\n",
        ",\n",
        "𝑥\n",
        "∈\n",
        "(\n",
        "0\n",
        ",\n",
        "1\n",
        ")\n",
        ",\n",
        "𝑡\n",
        "∈\n",
        "(\n",
        "0\n",
        ",\n",
        "1\n",
        ")"
      ],
      "metadata": {
        "id": "WBES_bG1UGsF"
      }
    },
    {
      "cell_type": "code",
      "source": [
        "# Thermal diffusivity\n",
        "alpha = 0.01\n",
        "\n",
        "def pde(x, u):\n",
        "    du_t = dde.grad.jacobian(u, x, i=0, j=1)   # ∂u/∂t\n",
        "    du_xx = dde.grad.hessian(u, x, i=0, j=0)  # ∂²u/∂x²\n",
        "    return du_t - alpha * du_xx"
      ],
      "metadata": {
        "id": "0qXEUQHoVE-i"
      },
      "execution_count": null,
      "outputs": []
    },
    {
      "cell_type": "markdown",
      "source": [
        "Boundary & Initial Conditions\n",
        "\n",
        "We’ll assume:\n",
        "\n",
        "Initial condition: u(x,0) = sin(pi * x)\n",
        "\n",
        "Boundary condition: u(0,t) = u(1,t) = 0"
      ],
      "metadata": {
        "id": "lyLOsHNbVfxt"
      }
    },
    {
      "cell_type": "code",
      "source": [
        "def initial_condition(x):\n",
        "    return np.sin(np.pi * x[:, 0:1])\n",
        "\n",
        "geom = dde.geometry.Interval(0, 1)\n",
        "timedomain = dde.geometry.TimeDomain(0, 1)\n",
        "geomtime = dde.geometry.GeometryXTime(geom, timedomain)\n",
        "\n",
        "ic = dde.IC(geomtime, initial_condition, lambda _, on_initial: on_initial)\n",
        "bc1 = dde.DirichletBC(geomtime, lambda x: 0, lambda x, on_boundary: on_boundary and np.isclose(x[0], 0))\n",
        "bc2 = dde.DirichletBC(geomtime, lambda x: 0, lambda x, on_boundary: on_boundary and np.isclose(x[0], 1))"
      ],
      "metadata": {
        "id": "6gUw4PuBWJUb"
      },
      "execution_count": null,
      "outputs": []
    },
    {
      "cell_type": "markdown",
      "source": [
        "PINN Model"
      ],
      "metadata": {
        "id": "nOYqSEwlZvNZ"
      }
    },
    {
      "cell_type": "code",
      "source": [
        "# Define neural network\n",
        "layer_size = [2] + [50] * 3 + [1]   # Input (x,t), 3 hidden layers, 1 output (u)\n",
        "activation = \"tanh\"\n",
        "initializer = \"Glorot normal\"\n",
        "\n",
        "net = dde.maps.FNN(layer_size, activation, initializer)\n",
        "\n",
        "data = dde.data.TimePDE(\n",
        "    geomtime,\n",
        "    pde,\n",
        "    [ic, bc1, bc2],\n",
        "    num_domain=2000,\n",
        "    num_boundary=200,\n",
        "    num_initial=200,\n",
        ")\n",
        "\n",
        "model = dde.Model(data, net)"
      ],
      "metadata": {
        "id": "BvG6QyW9Zycx"
      },
      "execution_count": null,
      "outputs": []
    },
    {
      "cell_type": "markdown",
      "source": [
        "Train the Model"
      ],
      "metadata": {
        "id": "dJWbiYseaOTw"
      }
    },
    {
      "cell_type": "code",
      "source": [
        "model.compile(\"adam\", lr=0.001)\n",
        "losshistory, train_state = model.train(epochs=5000)"
      ],
      "metadata": {
        "colab": {
          "base_uri": "https://localhost:8080/"
        },
        "id": "Wn199gRpaRDG",
        "outputId": "d9366350-0f9a-456e-ecaa-d382ba7aa753"
      },
      "execution_count": null,
      "outputs": [
        {
          "output_type": "stream",
          "name": "stdout",
          "text": [
            "Compiling model...\n",
            "Building feed-forward neural network...\n",
            "'build' took 0.102506 s\n",
            "\n",
            "'compile' took 0.569278 s\n",
            "\n",
            "Warning: epochs is deprecated and will be removed in a future version. Use iterations instead.\n",
            "Training model...\n",
            "\n",
            "Step      Train loss                                  Test loss                                   Test metric\n",
            "0         [5.18e-02, 5.65e-01, 1.90e-02, 4.29e-02]    [5.18e-02, 5.65e-01, 1.90e-02, 4.29e-02]    []  \n",
            "1000      [2.68e-04, 2.18e-04, 4.34e-05, 1.85e-05]    [2.68e-04, 2.18e-04, 4.34e-05, 1.85e-05]    []  \n",
            "2000      [1.21e-04, 9.66e-05, 1.79e-05, 1.27e-05]    [1.21e-04, 9.66e-05, 1.79e-05, 1.27e-05]    []  \n",
            "3000      [8.17e-05, 6.15e-05, 9.87e-06, 1.24e-05]    [8.17e-05, 6.15e-05, 9.87e-06, 1.24e-05]    []  \n",
            "4000      [6.01e-05, 4.60e-05, 6.34e-06, 1.21e-05]    [6.01e-05, 4.60e-05, 6.34e-06, 1.21e-05]    []  \n",
            "5000      [4.27e-05, 3.36e-05, 3.68e-06, 1.12e-05]    [4.27e-05, 3.36e-05, 3.68e-06, 1.12e-05]    []  \n",
            "\n",
            "Best model at step 5000:\n",
            "  train loss: 9.12e-05\n",
            "  test loss: 9.12e-05\n",
            "  test metric: []\n",
            "\n",
            "'train' took 121.507455 s\n",
            "\n"
          ]
        }
      ]
    },
    {
      "cell_type": "markdown",
      "source": [
        "Visualize Results"
      ],
      "metadata": {
        "id": "KLuZRRkEaklC"
      }
    },
    {
      "cell_type": "code",
      "source": [
        "X = np.linspace(0, 1, 100)[:, None]\n",
        "T = np.linspace(0, 1, 100)[:, None]\n",
        "X, T = np.meshgrid(X, T)\n",
        "XT = np.hstack((X.flatten()[:, None], T.flatten()[:, None]))\n",
        "\n",
        "u_pred = model.predict(XT)\n",
        "U = u_pred.reshape(100, 100)\n",
        "\n",
        "plt.figure(figsize=(6,5))\n",
        "plt.imshow(U, extent=[0,1,0,1], origin=\"lower\", aspect=\"auto\", cmap=\"jet\")\n",
        "plt.colorbar(label=\"u(x,t)\")\n",
        "plt.xlabel(\"x\")\n",
        "plt.ylabel(\"t\")\n",
        "plt.title(\"PINN Solution of 1D Heat Equation\")\n",
        "plt.show()"
      ],
      "metadata": {
        "colab": {
          "base_uri": "https://localhost:8080/",
          "height": 487
        },
        "id": "Bfwsrm2nanwm",
        "outputId": "2f6d98b2-9bd6-417c-842e-f31b3d837f43"
      },
      "execution_count": null,
      "outputs": [
        {
          "output_type": "display_data",
          "data": {
            "text/plain": [
              "<Figure size 600x500 with 2 Axes>"
            ],
            "image/png": "[encoded data removed]"
          },
          "metadata": {}
        }
      ]
    }
  ]
}